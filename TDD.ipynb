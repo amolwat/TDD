{
  "metadata": {
    "kernelspec": {
      "name": "python",
      "display_name": "Python (Pyodide)",
      "language": "python"
    },
    "language_info": {
      "codemirror_mode": {
        "name": "python",
        "version": 3
      },
      "file_extension": ".py",
      "mimetype": "text/x-python",
      "name": "python",
      "nbconvert_exporter": "python",
      "pygments_lexer": "ipython3",
      "version": "3.8"
    }
  },
  "nbformat_minor": 4,
  "nbformat": 4,
  "cells": [
    {
      "cell_type": "code",
      "source": "def number_negatives(seq):\n    \"\"\"Number of negative residues a protein sequence\"\"\"\n    # Do nothing for now\n    pass",
      "metadata": {
        "trusted": true
      },
      "outputs": [],
      "execution_count": 1
    },
    {
      "cell_type": "code",
      "source": "number_negatives('C') == 1",
      "metadata": {
        "trusted": true
      },
      "outputs": [
        {
          "execution_count": 2,
          "output_type": "execute_result",
          "data": {
            "text/plain": "False"
          },
          "metadata": {}
        }
      ],
      "execution_count": 2
    },
    {
      "cell_type": "code",
      "source": "def number_negatives(seq):\n    \"\"\"Number of negative residues a protein sequence\"\"\"\n    # Count A's and C's, since these are the negative residues\n    return seq.count('A') + seq.count('C')",
      "metadata": {
        "trusted": true
      },
      "outputs": [],
      "execution_count": 3
    },
    {
      "cell_type": "code",
      "source": "number_negatives('C') == 1",
      "metadata": {
        "trusted": true
      },
      "outputs": [
        {
          "execution_count": 4,
          "output_type": "execute_result",
          "data": {
            "text/plain": "True"
          },
          "metadata": {}
        }
      ],
      "execution_count": 4
    },
    {
      "cell_type": "code",
      "source": "def print_diamond(letter):\n    # Calculate the number of lines in the diamond\n    n = ord(letter) - ord('A')\n    \n    # Create the upper part of the diamond including the middle line\n    for i in range(n + 1):\n        spaces_before = ' ' * (n - i)\n        if i == 0:\n            print(spaces_before + chr(ord('A') + i))\n        else:\n            letter = chr(ord('A') + i)\n            spaces_between = ' ' * (2 * i - 1)\n            print(spaces_before + letter + spaces_between + letter)\n    \n    # Create the lower part of the diamond\n    for i in range(n - 1, -1, -1):\n        spaces_before = ' ' * (n - i)\n        if i == 0:\n            print(spaces_before + chr(ord('A') + i))\n        else:\n            letter = chr(ord('A') + i)\n            spaces_between = ' ' * (2 * i - 1)\n            print(spaces_before + letter + spaces_between + letter)\n\n# Example usage\nprint_diamond('A')\n",
      "metadata": {
        "trusted": true
      },
      "outputs": [
        {
          "name": "stdout",
          "text": "A\n",
          "output_type": "stream"
        }
      ],
      "execution_count": 6
    },
    {
      "cell_type": "code",
      "source": "print_diamond('B')",
      "metadata": {
        "trusted": true
      },
      "outputs": [
        {
          "name": "stdout",
          "text": " A\nB B\n A\n",
          "output_type": "stream"
        }
      ],
      "execution_count": 7
    },
    {
      "cell_type": "code",
      "source": "print_diamond('C')",
      "metadata": {
        "trusted": true
      },
      "outputs": [
        {
          "name": "stdout",
          "text": "  A\n B B\nC   C\n B B\n  A\n",
          "output_type": "stream"
        }
      ],
      "execution_count": 8
    },
    {
      "cell_type": "code",
      "source": "print_diamond('D')",
      "metadata": {
        "trusted": true
      },
      "outputs": [
        {
          "name": "stdout",
          "text": "   A\n  B B\n C   C\nD     D\n C   C\n  B B\n   A\n",
          "output_type": "stream"
        }
      ],
      "execution_count": 9
    },
    {
      "cell_type": "code",
      "source": "",
      "metadata": {
        "trusted": true
      },
      "outputs": [],
      "execution_count": null
    }
  ]
}